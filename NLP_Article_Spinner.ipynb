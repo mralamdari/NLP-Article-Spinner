{
  "nbformat": 4,
  "nbformat_minor": 0,
  "metadata": {
    "colab": {
      "name": "NLP-Article-Spinner.ipynb",
      "provenance": [],
      "collapsed_sections": [],
      "authorship_tag": "ABX9TyPvS5gTljSNES4aQy25LhkJ",
      "include_colab_link": true
    },
    "kernelspec": {
      "name": "python3",
      "display_name": "Python 3"
    },
    "language_info": {
      "name": "python"
    }
  },
  "cells": [
    {
      "cell_type": "markdown",
      "metadata": {
        "id": "view-in-github",
        "colab_type": "text"
      },
      "source": [
        "<a href=\"https://colab.research.google.com/github/mralamdari/NLP-Article-Spinner/blob/main/NLP_Article_Spinner.ipynb\" target=\"_parent\"><img src=\"https://colab.research.google.com/assets/colab-badge.svg\" alt=\"Open In Colab\"/></a>"
      ]
    },
    {
      "cell_type": "code",
      "execution_count": 3,
      "metadata": {
        "id": "M5F7Q50EuWJ9",
        "colab": {
          "base_uri": "https://localhost:8080/"
        },
        "outputId": "1671c587-3f93-4784-86f7-0c8dceee8bc9"
      },
      "outputs": [
        {
          "output_type": "stream",
          "name": "stdout",
          "text": [
            "[nltk_data] Downloading package punkt to /root/nltk_data...\n",
            "[nltk_data]   Unzipping tokenizers/punkt.zip.\n",
            "[nltk_data] Downloading package stopwords to /root/nltk_data...\n",
            "[nltk_data]   Unzipping corpora/stopwords.zip.\n",
            "[nltk_data] Downloading package wordnet to /root/nltk_data...\n",
            "[nltk_data]   Unzipping corpora/wordnet.zip.\n"
          ]
        },
        {
          "output_type": "execute_result",
          "data": {
            "text/plain": [
              "True"
            ]
          },
          "metadata": {},
          "execution_count": 3
        }
      ],
      "source": [
        "import bs4\n",
        "import nltk\n",
        "import pandas as pd\n",
        "import numpy as np\n",
        "\n",
        "nltk.download('punkt')\n",
        "nltk.download('stopwords')\n",
        "nltk.download('wordnet')"
      ]
    },
    {
      "cell_type": "code",
      "source": [
        "!wget https://raw.githubusercontent.com/lazyprogrammer/machine_learning_examples/master/nlp_class/electronics/positive.review"
      ],
      "metadata": {
        "colab": {
          "base_uri": "https://localhost:8080/"
        },
        "id": "5txQN0rNvDwL",
        "outputId": "7f843295-6be6-4833-aa08-01d5227e96ac"
      },
      "execution_count": 4,
      "outputs": [
        {
          "output_type": "stream",
          "name": "stdout",
          "text": [
            "--2022-05-11 06:10:13--  https://raw.githubusercontent.com/lazyprogrammer/machine_learning_examples/master/nlp_class/electronics/positive.review\n",
            "Resolving raw.githubusercontent.com (raw.githubusercontent.com)... 185.199.108.133, 185.199.109.133, 185.199.110.133, ...\n",
            "Connecting to raw.githubusercontent.com (raw.githubusercontent.com)|185.199.108.133|:443... connected.\n",
            "HTTP request sent, awaiting response... 200 OK\n",
            "Length: 1105010 (1.1M) [text/plain]\n",
            "Saving to: ‘positive.review’\n",
            "\n",
            "positive.review     100%[===================>]   1.05M  --.-KB/s    in 0.06s   \n",
            "\n",
            "2022-05-11 06:10:13 (16.9 MB/s) - ‘positive.review’ saved [1105010/1105010]\n",
            "\n"
          ]
        }
      ]
    },
    {
      "cell_type": "code",
      "source": [
        "positive_reviews = bs4.BeautifulSoup(open('positive.review').read())\n",
        "positive_reviews = positive_reviews.findAll('review_text')"
      ],
      "metadata": {
        "id": "FYoiqzr_vULY"
      },
      "execution_count": 22,
      "outputs": []
    },
    {
      "cell_type": "code",
      "source": [
        "trigrams = {}\n",
        "for review in positive_reviews:\n",
        "  tokens = nltk.tokenize.word_tokenize(review.text.lower())\n",
        "  for i in range(len(tokens)-2):\n",
        "    token_key = (tokens[i], tokens[i+2])\n",
        "    if token_key not in trigrams:\n",
        "      trigrams[token_key] = []\n",
        "    trigrams[token_key].append(tokens[i+1])"
      ],
      "metadata": {
        "id": "O4uq3IaEw4Vb"
      },
      "execution_count": 23,
      "outputs": []
    },
    {
      "cell_type": "code",
      "source": [
        "for i , j in enumerate(trigrams.items()):\n",
        "  if i == 20:\n",
        "    break\n",
        "  print(j)"
      ],
      "metadata": {
        "colab": {
          "base_uri": "https://localhost:8080/"
        },
        "id": "JN79JCQtxkAn",
        "outputId": "0ebb579f-911b-4f2d-b824-ccf359ef9d3d"
      },
      "execution_count": 31,
      "outputs": [
        {
          "output_type": "stream",
          "name": "stdout",
          "text": [
            "(('i', 'this'), ['purchased', 'bought', 'bought', 'recomend', 'made', 'picked', 'say', 'bought', 'purchased', 'use', 'bought', 'had', 'bought', 'got', 'got', 'purchased', 'think', 'use', 'ordered', 'matched', 'bought', 'think', 'bought', 'picked', 'picked', 'noticed', 'ordered', 'purchased', 'bought', 'use', 'bought', 'purchased', 'bought', 'thought', 'recommend', 'got', 'bought', 'use', 'use', 'bought', 'choose', 'like', 'bought', 'purchased', 'found', 'got', 'got', 'bought', 'did', 'purchased', 'find', 'did', 'bought', 'purchased', 'bought', 'purchased', 'set', 'love', 'hold', 'bought', 'purchased', 'bought', 'purchased', 'bought', 'found', 'purchased', 'received', 'made', 'have', 'bought', 'bought', 'found', 'find', 'buy', 'bought', 'got', 'found', 'bought', 'found', 'chose', 'think', 'bought', 'purchased', 'bought', 'bought', 'love', 'chose', 'bought', 'bought', 'got', 'put', 'bought', 'used', 'bought', 'bought', 'recommend', 'bought', 'have', 'used', 'purchased', 'give', 'believe', 'recommend', 'bought', 'mention', 'use', 'bought', 'bought', 'bought', 'worked', 'bought', 'bet', 'purchased', 'bought', 'think', 'went', 'pop', 'found', 'have', 'bought', 'use', 'selected', 'purchased', 'bought', 'bought', 'like', 'use', 'bought', 'heard', 'bought', 'use', 'do', 'bought', 'love', 'purchased', 'purchased', 'checked', 'find', 'bought', 'think', 'bought', 'got', 'plugged', 'recommend', 'consider', 'love', 'found', 'bought', 'got', 'think', 'bought', 'reccomend', 'purchased', 'purchased', 'find', 'bought', 'found', 'received', 'did', 'found', 'bought'])\n",
            "(('purchased', 'unit'), ['this', 'the'])\n",
            "(('this', 'due'), ['unit'])\n",
            "(('unit', 'to'), ['due', ',', 'where', 'prior'])\n",
            "(('due', 'frequent'), ['to'])\n",
            "(('to', 'blackouts'), ['frequent'])\n",
            "(('frequent', 'in'), ['blackouts'])\n",
            "(('blackouts', 'my'), ['in'])\n",
            "(('in', 'area'), ['my', 'this', 'this'])\n",
            "(('my', 'and'), ['area', 'camera', 'files', 'itrip', 'ipod', 'needs', 'mac', 'ipod', 'dvd/cd', 'head', 'ears', 'imac', 'notebook', 't.v', 'cellphone', 'notes', 'office', 'window', 'pc', 'friends', 'mac', 'ear', 'taste', 'netgear', 'phone', 'jazz', 'shoulder', 'pocket', 'gut', 'side', 'walls', 'computer', 'husband', 'movies', 'wife', 'pc', 'wife', 'psp', 'laptop', 'wife', 'stereo', 'order', 'router', 'ipod', 'pocket', 'lap', 'mp3', 'first', 'friend', 'nightstand', 'purchase', 'ipod', 'computer', 'wife', 'ear', 'head', 'husband', 'laptop', 'calendar', 'powerbook', 'quickcam', 'mp500'])\n",
            "(('area', '2'), ['and'])\n",
            "(('and', 'power'), ['2', 'auto', 'crank'])\n",
            "(('2', 'supplies'), ['power'])\n",
            "(('power', 'going'), ['supplies'])\n",
            "(('supplies', 'bad'), ['going'])\n",
            "(('going', '.'), ['bad', 'on', 'strong', 'strong', 'wireless'])\n",
            "(('bad', 'it'), ['.'])\n",
            "(('.', 'will'), ['it', 'you', 'this', 'i', 'it', 'it', 'they', 'i', 'i', 'this', 'i', 'reimbursement', 'it', 'you', 'you', 'you', 'this', 'this', 'you', 'i', 'i', 'you', 'you', 'reimbursement', 'it', 'it', 'i'])\n",
            "(('it', 'run'), ['will'])\n",
            "(('will', 'my'), ['run'])\n"
          ]
        }
      ]
    },
    {
      "cell_type": "code",
      "source": [
        "trigrams_probs = {}\n",
        "for key, words in trigrams.items():\n",
        "  words_list_count = len(words)\n",
        "  if words_list_count > 1:\n",
        "    word_probs = {}\n",
        "\n",
        "    #Count How many times each word appeared between these two words\n",
        "    for w in words:\n",
        "      if w not in word_probs:\n",
        "        word_probs[w] = 0\n",
        "      word_probs[w] += 1\n",
        "    \n",
        "    #Devide the Count of each word by the count of the words in that words list\n",
        "    for w, count in word_probs.items():\n",
        "      word_probs[w] = count / words_list_count\n",
        "    \n",
        "    trigrams_probs[key] = word_probs"
      ],
      "metadata": {
        "id": "RhSXNAL8xlXC"
      },
      "execution_count": 39,
      "outputs": []
    },
    {
      "cell_type": "code",
      "source": [
        "for i , j in enumerate(trigrams_probs.items()):\n",
        "  if i == 20:\n",
        "    break\n",
        "  print(j)"
      ],
      "metadata": {
        "colab": {
          "base_uri": "https://localhost:8080/"
        },
        "id": "OuZy2gEo1HXS",
        "outputId": "601c62c0-dae1-4ce1-abaf-b6f639b2db7d"
      },
      "execution_count": 40,
      "outputs": [
        {
          "output_type": "stream",
          "name": "stdout",
          "text": [
            "(('i', 'this'), {'purchased': 0.12422360248447205, 'bought': 0.3105590062111801, 'recomend': 0.006211180124223602, 'made': 0.012422360248447204, 'picked': 0.018633540372670808, 'say': 0.006211180124223602, 'use': 0.055900621118012424, 'had': 0.006211180124223602, 'got': 0.055900621118012424, 'think': 0.037267080745341616, 'ordered': 0.012422360248447204, 'matched': 0.006211180124223602, 'noticed': 0.006211180124223602, 'thought': 0.006211180124223602, 'recommend': 0.024844720496894408, 'choose': 0.006211180124223602, 'like': 0.012422360248447204, 'found': 0.055900621118012424, 'did': 0.018633540372670808, 'find': 0.024844720496894408, 'set': 0.006211180124223602, 'love': 0.024844720496894408, 'hold': 0.006211180124223602, 'received': 0.012422360248447204, 'have': 0.018633540372670808, 'buy': 0.006211180124223602, 'chose': 0.012422360248447204, 'put': 0.006211180124223602, 'used': 0.012422360248447204, 'give': 0.006211180124223602, 'believe': 0.006211180124223602, 'mention': 0.006211180124223602, 'worked': 0.006211180124223602, 'bet': 0.006211180124223602, 'went': 0.006211180124223602, 'pop': 0.006211180124223602, 'selected': 0.006211180124223602, 'heard': 0.006211180124223602, 'do': 0.006211180124223602, 'checked': 0.006211180124223602, 'plugged': 0.006211180124223602, 'consider': 0.006211180124223602, 'reccomend': 0.006211180124223602})\n",
            "(('purchased', 'unit'), {'this': 0.5, 'the': 0.5})\n",
            "(('unit', 'to'), {'due': 0.25, ',': 0.25, 'where': 0.25, 'prior': 0.25})\n",
            "(('in', 'area'), {'my': 0.3333333333333333, 'this': 0.6666666666666666})\n",
            "(('my', 'and'), {'area': 0.016129032258064516, 'camera': 0.016129032258064516, 'files': 0.016129032258064516, 'itrip': 0.016129032258064516, 'ipod': 0.06451612903225806, 'needs': 0.016129032258064516, 'mac': 0.03225806451612903, 'dvd/cd': 0.016129032258064516, 'head': 0.03225806451612903, 'ears': 0.016129032258064516, 'imac': 0.016129032258064516, 'notebook': 0.016129032258064516, 't.v': 0.016129032258064516, 'cellphone': 0.016129032258064516, 'notes': 0.016129032258064516, 'office': 0.016129032258064516, 'window': 0.016129032258064516, 'pc': 0.03225806451612903, 'friends': 0.016129032258064516, 'ear': 0.03225806451612903, 'taste': 0.016129032258064516, 'netgear': 0.016129032258064516, 'phone': 0.016129032258064516, 'jazz': 0.016129032258064516, 'shoulder': 0.016129032258064516, 'pocket': 0.03225806451612903, 'gut': 0.016129032258064516, 'side': 0.016129032258064516, 'walls': 0.016129032258064516, 'computer': 0.03225806451612903, 'husband': 0.03225806451612903, 'movies': 0.016129032258064516, 'wife': 0.06451612903225806, 'psp': 0.016129032258064516, 'laptop': 0.03225806451612903, 'stereo': 0.016129032258064516, 'order': 0.016129032258064516, 'router': 0.016129032258064516, 'lap': 0.016129032258064516, 'mp3': 0.016129032258064516, 'first': 0.016129032258064516, 'friend': 0.016129032258064516, 'nightstand': 0.016129032258064516, 'purchase': 0.016129032258064516, 'calendar': 0.016129032258064516, 'powerbook': 0.016129032258064516, 'quickcam': 0.016129032258064516, 'mp500': 0.016129032258064516})\n",
            "(('and', 'power'), {'2': 0.3333333333333333, 'auto': 0.3333333333333333, 'crank': 0.3333333333333333})\n",
            "(('going', '.'), {'bad': 0.2, 'on': 0.2, 'strong': 0.4, 'wireless': 0.2})\n",
            "(('.', 'will'), {'it': 0.2222222222222222, 'you': 0.25925925925925924, 'this': 0.14814814814814814, 'i': 0.25925925925925924, 'they': 0.037037037037037035, 'reimbursement': 0.07407407407407407})\n",
            "(('my', 'modem'), {'cable': 0.6666666666666666, 'wireless': 0.3333333333333333})\n",
            "(('cable', ','), {'modem': 0.14285714285714285, 'box': 0.5714285714285714, 'included': 0.14285714285714285, 'connected': 0.14285714285714285})\n",
            "((',', ','), {'router': 0.004672897196261682, 'pc': 0.004672897196261682, 'painter': 0.004672897196261682, 'nemo': 0.004672897196261682, 'duracell': 0.004672897196261682, 'elevation': 0.004672897196261682, 'reliable': 0.009345794392523364, 'accurate': 0.009345794392523364, 'small': 0.014018691588785047, 'however': 0.04205607476635514, 'vests': 0.004672897196261682, 'belts': 0.004672897196261682, 'teleconverters': 0.004672897196261682, 'techno/electronic': 0.004672897196261682, 'depth': 0.004672897196261682, 'warm': 0.009345794392523364, 'smooth': 0.009345794392523364, 'soothing': 0.004672897196261682, 'well': 0.004672897196261682, 'yes': 0.009345794392523364, 'video': 0.009345794392523364, 'crisp': 0.004672897196261682, 'though': 0.028037383177570093, 'yea': 0.004672897196261682, 'photos': 0.004672897196261682, 'games': 0.004672897196261682, 'options': 0.009345794392523364, 'hp': 0.004672897196261682, 'dates': 0.004672897196261682, 'net.exe': 0.004672897196261682, 'sanyo': 0.004672897196261682, 'panasonic': 0.004672897196261682, 'sony': 0.004672897196261682, 'apex': 0.004672897196261682, 'ps2': 0.009345794392523364, 'xbox': 0.004672897196261682, 'tv': 0.014018691588785047, 'install': 0.004672897196261682, 'cds': 0.004672897196261682, 'books': 0.004672897196261682, 'search': 0.004672897196261682, 'silver': 0.004672897196261682, 'snatch': 0.004672897196261682, 'rock': 0.004672897196261682, 'classical': 0.004672897196261682, 'high': 0.004672897196261682, 'pricey': 0.004672897196261682, 'scanning': 0.004672897196261682, 'light': 0.004672897196261682, 'but': 0.014018691588785047, 'and': 0.009345794392523364, 'clips': 0.009345794392523364, 'sound': 0.004672897196261682, 'logitech': 0.004672897196261682, 'klipsch': 0.004672897196261682, 'bose': 0.004672897196261682, 'creative': 0.004672897196261682, 'rich': 0.004672897196261682, 'sleek': 0.004672897196261682, 'ipod': 0.009345794392523364, 'cd-player': 0.004672897196261682, 'etc': 0.009345794392523364, 'bass': 0.004672897196261682, 'pop': 0.004672897196261682, 'lexar': 0.004672897196261682, 'daneelec': 0.004672897196261682, 'pan': 0.004672897196261682, 'end': 0.004672897196261682, 'really': 0.009345794392523364, 't5400': 0.004672897196261682, 't5420': 0.004672897196261682, 't5600': 0.004672897196261682, 't5620': 0.004672897196261682, 't5700': 0.004672897196261682, 't5720': 0.004672897196261682, 't5800': 0.004672897196261682, 'flanged': 0.004672897196261682, 'large': 0.004672897196261682, 'photo': 0.009345794392523364, 'brightness': 0.004672897196261682, 'may': 0.004672897196261682, 'reorder': 0.004672897196261682, 'folders': 0.004672897196261682, 'appointments': 0.004672897196261682, 'tasks': 0.004672897196261682, 'notes': 0.004672897196261682, 'calender': 0.004672897196261682, 'calculator': 0.004672897196261682, 'recorder': 0.004672897196261682, 'confortable': 0.004672897196261682, 'slim': 0.004672897196261682, 'say': 0.009345794392523364, 'features': 0.004672897196261682, 'dc': 0.009345794392523364, 'leather': 0.004672897196261682, 'ram': 0.004672897196261682, 'vinyl': 0.004672897196261682, 'woofers': 0.004672897196261682, 'sub-dividers': 0.004672897196261682, 'europe': 0.004672897196261682, 'dsl': 0.004672897196261682, 'volume': 0.004672897196261682, 'squeeze': 0.004672897196261682, 'jbl': 0.004672897196261682, 'medialife': 0.004672897196261682, 'realplayer': 0.004672897196261682, 'itunes': 0.004672897196261682, 'rhapsody': 0.004672897196261682, 'windvd': 0.004672897196261682, 'affordable': 0.004672897196261682, 'lightweight': 0.004672897196261682, 'durable': 0.004672897196261682, 'flash': 0.004672897196261682, 'photoshop': 0.004672897196261682, 'etc.': 0.02336448598130841, 'alas': 0.004672897196261682, 'resolutions': 0.004672897196261682, 'lunch': 0.004672897196261682, 'paper': 0.004672897196261682, 'clocks': 0.004672897196261682, 'static': 0.004672897196261682, 'popping': 0.004672897196261682, 'dvds': 0.004672897196261682, 'pens': 0.004672897196261682, 'e.g.': 0.004672897196261682, 'testbooks': 0.004672897196261682, 'courteous': 0.004672897196261682, 'stylish': 0.009345794392523364, 'subways': 0.004672897196261682, 'response': 0.004672897196261682, 'non-belkin': 0.004672897196261682, 'whereas': 0.004672897196261682, 'blessfully': 0.004672897196261682, 'remote': 0.004672897196261682, 'price': 0.004672897196261682, 'besides': 0.004672897196261682, 'waypoints': 0.004672897196261682, 'desktops': 0.004672897196261682, 'pda': 0.004672897196261682, 'keys': 0.004672897196261682, 'down': 0.004672897196261682, 's-video': 0.004672897196261682, 'creatures': 0.004672897196261682, 'faxing': 0.004672897196261682, 'taut': 0.004672897196261682, 'h320': 0.004672897196261682, 'garmin': 0.004672897196261682, 'middle': 0.004672897196261682, 'playing': 0.004672897196261682, 'case': 0.004672897196261682, 'cleaner': 0.004672897196261682, 'businesses': 0.004672897196261682, 'me': 0.004672897196261682, 'weight': 0.004672897196261682, 'smoothness': 0.004672897196261682, 'corded': 0.004672897196261682, 'ac': 0.004672897196261682, 'battery': 0.004672897196261682, 'fm': 0.004672897196261682, 'siren': 0.004672897196261682, 'blow-torches': 0.004672897196261682, 'including': 0.004672897196261682, 'tilt': 0.004672897196261682, 'keyboards': 0.004672897196261682, 'canada': 0.004672897196261682, 'restaurants': 0.004672897196261682, 'hiking': 0.004672897196261682, 'kayaking': 0.004672897196261682, 'voice': 0.004672897196261682, 'alone': 0.004672897196261682, 'basically': 0.004672897196261682, '30d': 0.004672897196261682, 'backward': 0.004672897196261682, 'sd': 0.004672897196261682})\n",
            "(('and', 'monitor'), {'lcd': 0.5, 'the': 0.5})\n",
            "(('for', 'minutes'), {'5': 0.5, 'several': 0.5})\n",
            "(('5', '.'), {'minutes': 0.3333333333333333, 'hours': 0.16666666666666666, 'stars': 0.16666666666666666, 'inches': 0.16666666666666666, 'months': 0.16666666666666666})\n",
            "(('minutes', 'this'), {'.': 1.0})\n",
            "(('.', 'is'), {'this': 0.21105527638190955, 'there': 0.12060301507537688, 'that': 0.04522613065326633, 'it': 0.38190954773869346, 'editing': 0.005025125628140704, 'sound': 0.020100502512562814, 'everything': 0.01507537688442211, 'ca-706': 0.005025125628140704, 'here': 0.020100502512562814, 'polk': 0.005025125628140704, 'what': 0.010050251256281407, 'digital': 0.005025125628140704, 'wifi': 0.005025125628140704, 'problem': 0.005025125628140704, 'amazon': 0.005025125628140704, 'treble': 0.005025125628140704, 'mine': 0.005025125628140704, 'such': 0.005025125628140704, 'subwoofer': 0.005025125628140704, 'resolution': 0.005025125628140704, 'installation': 0.005025125628140704, 'sandisk': 0.005025125628140704, 'warranty': 0.010050251256281407, 'tracking': 0.005025125628140704, 'vinyl': 0.005025125628140704, 'which': 0.005025125628140704, 'he': 0.005025125628140704, 'brightness': 0.005025125628140704, 'memory': 0.005025125628140704, 'mouse': 0.005025125628140704, 'padding': 0.005025125628140704, 'she': 0.005025125628140704, 'scanning': 0.005025125628140704, 'volume': 0.005025125628140704, 'isolation': 0.005025125628140704, 'portability': 0.005025125628140704, 'picture': 0.005025125628140704, 'midrange': 0.005025125628140704, 'life': 0.005025125628140704, 'bass': 0.005025125628140704, 'text': 0.005025125628140704, 'd-pad': 0.005025125628140704})\n",
            "(('this', 'more'), {'is': 0.6666666666666666, 'gets': 0.3333333333333333})\n",
            "(('is', 'than'), {'more': 0.4117647058823529, 'better': 0.29411764705882354, 'faster': 0.058823529411764705, 'less': 0.058823529411764705, 'greater': 0.11764705882352941, 'higher': 0.058823529411764705})\n",
            "(('more', 'enough'), {'than': 1.0})\n",
            "(('than', 'time'), {'enough': 0.5, 'expected': 0.5})\n"
          ]
        }
      ]
    },
    {
      "cell_type": "code",
      "source": [
        ""
      ],
      "metadata": {
        "id": "_DgHBX-q1JQP"
      },
      "execution_count": null,
      "outputs": []
    }
  ]
}